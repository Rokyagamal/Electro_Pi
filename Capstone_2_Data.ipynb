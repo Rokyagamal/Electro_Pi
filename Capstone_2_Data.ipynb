{
 "cells": [
  {
   "cell_type": "code",
   "execution_count": null,
   "id": "5aefa0e1",
   "metadata": {},
   "outputs": [],
   "source": [
    "import numpy as np\n",
    "import pandas as pd\n",
    "import matplotlib.pyplot as plt\n",
    "import seaborn as sns"
   ]
  },
  {
   "cell_type": "code",
   "execution_count": null,
   "id": "66b1b0cb",
   "metadata": {},
   "outputs": [],
   "source": [
    "# Accept user input for the data file path\n",
    "data_file = input(\"Enter the data file path: \")"
   ]
  },
  {
   "cell_type": "code",
   "execution_count": null,
   "id": "a9f72dc7",
   "metadata": {},
   "outputs": [],
   "source": [
    "# Read DataFrame\n",
    "data_Passengers = pd.read_csv(data_file)"
   ]
  },
  {
   "cell_type": "code",
   "execution_count": null,
   "id": "518d3921",
   "metadata": {},
   "outputs": [],
   "source": [
    "# Check the data types of each column\n",
    "data_Passengers.dtypes"
   ]
  },
  {
   "cell_type": "code",
   "execution_count": null,
   "id": "5261f9fd",
   "metadata": {},
   "outputs": [],
   "source": [
    "# Check the summary statistics of the numerical columns\n",
    "data_Passengers.describe()"
   ]
  },
  {
   "cell_type": "code",
   "execution_count": null,
   "id": "0b67e617",
   "metadata": {},
   "outputs": [],
   "source": [
    "# Check the first few rows of the DataFrame\n",
    "data_Passengers.head()"
   ]
  },
  {
   "cell_type": "code",
   "execution_count": null,
   "id": "ea8b8a13",
   "metadata": {},
   "outputs": [],
   "source": [
    "# Check the first few rows of the DataFrame\n",
    "data_Passengers.tail()"
   ]
  },
  {
   "cell_type": "code",
   "execution_count": null,
   "id": "d9e2e317",
   "metadata": {},
   "outputs": [],
   "source": [
    "# Show that Month (3) 'March' in all years has the highest total flights over years (1990-2020)\n",
    "column1 = input(\"Enter the first column name to analyze: \")\n",
    "\n",
    "data_Passengers[column1].value_counts()"
   ]
  },
  {
   "cell_type": "code",
   "execution_count": null,
   "id": "8d019903",
   "metadata": {},
   "outputs": [],
   "source": [
    "# Accept user input for the columns to analyze\n",
    "column1 = input(\"Enter the first column name to analyze: \")\n",
    "column2 = input(\"Enter the second column name to analyze: \")\n",
    "\n",
    "# Show the relation between column 'Scheduled' and 'Charter'\n",
    "sns.histplot(data=data_Passengers, x=column1, bins=20, color=\"blue\", label=\"column1\")\n",
    "sns.histplot(data=data_Passengers, x=column2, bins=20, color=\"green\", label=\"column2\")\n",
    "plt.xlabel(\"Number of Flights\")\n",
    "plt.ylabel(\"Frequency\")\n",
    "plt.title(\"Distribution of Flights\")\n",
    "plt.legend()\n",
    "plt.show()"
   ]
  },
  {
   "cell_type": "code",
   "execution_count": null,
   "id": "a1e2aebc",
   "metadata": {},
   "outputs": [],
   "source": [
    "# Accept user input for the columns to analyze\n",
    "column1 = input(\"Enter the first column name to analyze: \")\n",
    "column2 = input(\"Enter the second column name to analyze: \")\n",
    "\n",
    "# Top Foreign Gateway Airport Code by fg_apt_id and fg_apt\n",
    "# Show the most Foreign Gateway Code across years (1990-2020)\n",
    "top_airlines = data_Passengers.groupby(column1)[column2].sum().nlargest(10)\n",
    "sns.barplot(x=top_airlines.index, y=top_airlines.values)\n",
    "plt.xlabel(column1)\n",
    "plt.ylabel(\"Total Flights\")\n",
    "plt.title(f\"Top 10 {column1} by Total Flights\")\n",
    "plt.xticks(rotation=45)\n",
    "plt.show()"
   ]
  },
  {
   "cell_type": "code",
   "execution_count": null,
   "id": "b2dfa7c9",
   "metadata": {},
   "outputs": [],
   "source": [
    "# Accept user input for the columns to analyze\n",
    "column1 = input(\"Enter the first column name to analyze: \")\n",
    "column2 = input(\"Enter the second column name to analyze: \")\n",
    "\n",
    "# Show that Year (2018) has the highest total flights over years (1990-2020)\n",
    "top_airlines = data_Passengers.groupby(column1)[column2].sum().nlargest(10)\n",
    "plt.plot(top_airlines.index, top_airlines.values)\n",
    "plt.xlabel(\"column1\")\n",
    "plt.ylabel(\"column2\")\n",
    "plt.title(\"Month with highest flights over years\")\n",
    "plt.xticks(rotation=45)\n",
    "plt.grid(True)\n",
    "plt.show()"
   ]
  },
  {
   "cell_type": "code",
   "execution_count": null,
   "id": "e8587a15",
   "metadata": {},
   "outputs": [],
   "source": [
    "# Accept user input for the columns to analyze\n",
    "column1 = input(\"Enter the first column name to analyze: \")\n",
    "column2 = input(\"Enter the second column name to analyze: \")\n",
    "\n",
    "# Monthly trend of Total flights\n",
    "# Show that the most number in flights was in July (7) Month\n",
    "monthly_totals = data_Passengers.groupby(data_Passengers[column1])[column2].sum()\n",
    "sns.lineplot(data=monthly_totals)\n",
    "plt.xlabel(\"column1\")\n",
    "plt.ylabel(\"column2\")\n",
    "plt.title(\"Monthly Trend of Total Flights\")\n",
    "plt.xticks(rotation=45)\n",
    "plt.grid()\n",
    "plt.show()"
   ]
  },
  {
   "cell_type": "code",
   "execution_count": null,
   "id": "d204f1a9",
   "metadata": {},
   "outputs": [],
   "source": [
    "# Accept user input for the columns to analyze\n",
    "column1 = input(\"Enter the first column name to analyze: \")\n",
    "column2 = input(\"Enter the second column name to analyze: \")\n",
    "column3 = input(\"Enter the second column name to analyze: \")\n",
    "\n",
    "# Group the data by year and month and calculate the total for each month\n",
    "monthly_totals = data_Passengers.groupby([column1, column2])[column3].sum().reset_index()\n",
    "\n",
    "# Find the highest month and corresponding year\n",
    "highest_month = monthly_totals.loc[monthly_totals[column3].idxmax()]\n",
    "highest_month_year = highest_month[column2]\n",
    "\n",
    "# Print the highest month and corresponding year\n",
    "# Show that the most number in flights was in July (7) Month\n",
    "# And was in year 2018\n",
    "print(\"Highest Month in Total:\")\n",
    "print(\"column1:\", highest_month[column1])\n",
    "print(\"column2:\", highest_month_year)\n",
    "\n",
    "# Visualization\n",
    "# Create a line plot of monthly totals\n",
    "sns.lineplot(data=monthly_totals, x=column1, y=column3, hue=column2)\n",
    "plt.xlabel(\"column1\")\n",
    "plt.ylabel(\"column3\")\n",
    "plt.title(\"Monthly Total\")\n",
    "plt.legend(title=\"column2\")\n",
    "plt.show()"
   ]
  }
 ],
 "metadata": {
  "kernelspec": {
   "display_name": "Python 3 (ipykernel)",
   "language": "python",
   "name": "python3"
  },
  "language_info": {
   "codemirror_mode": {
    "name": "ipython",
    "version": 3
   },
   "file_extension": ".py",
   "mimetype": "text/x-python",
   "name": "python",
   "nbconvert_exporter": "python",
   "pygments_lexer": "ipython3",
   "version": "3.9.13"
  }
 },
 "nbformat": 4,
 "nbformat_minor": 5
}
